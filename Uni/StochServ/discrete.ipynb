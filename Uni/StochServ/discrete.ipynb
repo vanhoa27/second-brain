{
 "cells": [
  {
   "cell_type": "code",
   "execution_count": 3,
   "id": "05c003b0-7b51-4863-b4de-f57bbd66fea2",
   "metadata": {},
   "outputs": [],
   "source": [
    "import numpy as np\n",
    "import matplotlib.pyplot as plt\n",
    "from scipy.stats import binom, geom, poisson, zipf\n",
    "from ipywidgets import interact, interact_manual, widgets\n",
    "\n",
    "plt.style.use('seaborn-v0_8')\n",
    "rng = np.random.default_rng()"
   ]
  },
  {
   "cell_type": "markdown",
   "id": "d56fa59e-25df-4bc2-9684-2852859aaab5",
   "metadata": {},
   "source": [
    "# Bernoulli-Verteilung\n",
    "\n",
    "Eine Zufallsvariable $X$ heißt **Bernoulli-verteilt** falls $X(\\Omega)=\\{0,1\\}$ und ihre Wahrscheinlichkeitsfunktion ist $$p_X(1)=p,\\quad p_X(0)=1-p$$ mit $p\\in[0,1]$."
   ]
  },
  {
   "cell_type": "code",
   "execution_count": 4,
   "id": "a61ef595-2ded-44ab-a45a-898353d9b1d9",
   "metadata": {},
   "outputs": [],
   "source": [
    "def flip_coin(n, p):\n",
    "    X = rng.binomial(n=1, p=p, size=n)\n",
    "    fig, ax = plt.subplots()\n",
    "    ax.hist(X, align='mid', bins=[-0.5, 0.5, 1.5], density=True, color='green')\n",
    "    ax.set_xticks([0,1])\n",
    "    plt.show()"
   ]
  },
  {
   "cell_type": "code",
   "execution_count": 5,
   "id": "ed9b28df-68fd-4c15-98c9-63429e189bdc",
   "metadata": {},
   "outputs": [
    {
     "data": {
      "application/vnd.jupyter.widget-view+json": {
       "model_id": "35aa08508ff547f49468829e8873fb73",
       "version_major": 2,
       "version_minor": 0
      },
      "text/plain": [
       "interactive(children=(IntSlider(value=1, description='n', min=1), FloatSlider(value=0.5, description='p', max=…"
      ]
     },
     "metadata": {},
     "output_type": "display_data"
    }
   ],
   "source": [
    "%matplotlib widget\n",
    "interact_manual(flip_coin, n = widgets.IntSlider(min=1, max=100_000, step=1), p = widgets.FloatSlider(min=0, max=1, value=0.5));"
   ]
  },
  {
   "cell_type": "markdown",
   "id": "64cf81dc-1635-4e3d-a965-433e2f241857",
   "metadata": {},
   "source": [
    "# Binomialverteilung\n",
    "\n",
    "Eine Zufallsvariable $X$ heißt **Binomialverteilt** mit parametern $n\\in\\mathbb{N},p\\in[0,1]$ falls $X(\\Omega)=\\{0,\\dotsc,n\\}$ und ihre Wahrscheilichkeitsfunction ist $$p_X(k)=\\binom{n}{k}p^k(1-p)^{n-k},\\quad k\\in\\{0,\\dotsc, n\\}.$$"
   ]
  },
  {
   "cell_type": "code",
   "execution_count": 6,
   "id": "9dbe2404-0084-4ebd-b682-0933d4aead7b",
   "metadata": {},
   "outputs": [],
   "source": [
    "def flip_coins(n, p, N):\n",
    "    X = binom.rvs(n=n, p=p, size=N, random_state=rng)\n",
    "    x = np.arange(0, n+1)\n",
    "    fig, ax = plt.subplots()\n",
    "    ax.step(x, binom.pmf(x, n, p), where='mid')\n",
    "    ax.hist(X, align='mid', bins=x-0.5, density=True)\n",
    "    ax.set_xticks(x)\n",
    "    plt.show()"
   ]
  },
  {
   "cell_type": "code",
   "execution_count": 7,
   "id": "99d02656-fe05-4c6c-90af-b6c14dba74b0",
   "metadata": {},
   "outputs": [
    {
     "data": {
      "application/vnd.jupyter.widget-view+json": {
       "model_id": "1c5a182f158c40b5934548f35dc8224c",
       "version_major": 2,
       "version_minor": 0
      },
      "text/plain": [
       "interactive(children=(IntSlider(value=10, description='n', max=20, min=10), FloatSlider(value=0.5, description…"
      ]
     },
     "metadata": {},
     "output_type": "display_data"
    }
   ],
   "source": [
    "interact_manual(flip_coins, n=widgets.IntSlider(min=10,max=20), p=widgets.FloatSlider(min=0,max=1,value=0.5), N=widgets.IntSlider(min=1, max=1000,value=10));"
   ]
  },
  {
   "cell_type": "markdown",
   "id": "7dff1c80-65db-47ad-9b15-36cd1fb0fa0a",
   "metadata": {},
   "source": [
    "# Geometrische Verteilung\n",
    "\n",
    "Eine Zufallsvariable $X$ heißt **geometrisch verteilt** mit parameter $p\\in[0,1]$ falls $X(\\Omega)=\\mathbb{N}$ und ihre Wahrscheinlichkeitsfunction ist $$p_X(k)=p(1-p)^{k-1},\\quad k\\in\\mathbb{N}.$$"
   ]
  },
  {
   "cell_type": "code",
   "execution_count": 6,
   "id": "9fcb60f4-743d-4e53-b1a2-4b6c42a2cf50",
   "metadata": {},
   "outputs": [],
   "source": [
    "def sample_geom(p, N):\n",
    "    X = geom.rvs(p, size=N, random_state=rng)\n",
    "    fig, ax = plt.subplots()\n",
    "    x = np.arange(1, 11)\n",
    "    fig, ax = plt.subplots()\n",
    "    ax.step(x, geom.pmf(x, p), where='mid')\n",
    "    ax.hist(X, align='mid', bins=x-0.5, density=True)\n",
    "    ax.set_xticks(x)\n",
    "    plt.show()"
   ]
  },
  {
   "cell_type": "code",
   "execution_count": 7,
   "id": "901d4839-3e74-42e1-8efd-626b5576c07b",
   "metadata": {},
   "outputs": [
    {
     "data": {
      "application/vnd.jupyter.widget-view+json": {
       "model_id": "b3e7b60ff5af4d8787002128f71e1dd6",
       "version_major": 2,
       "version_minor": 0
      },
      "text/plain": [
       "interactive(children=(FloatSlider(value=0.5, description='p', max=1.0), IntSlider(value=10, description='N', m…"
      ]
     },
     "metadata": {},
     "output_type": "display_data"
    }
   ],
   "source": [
    "interact_manual(sample_geom, p=widgets.FloatSlider(min=0,max=1,value=0.5), N=widgets.IntSlider(min=1, max=1000,value=10));"
   ]
  },
  {
   "cell_type": "markdown",
   "id": "7e5d0841-ffaf-40e2-9d8d-c2c52c565aeb",
   "metadata": {},
   "source": [
    "# Poisson-Verteilung\n",
    "\n",
    "Eine Zufallsvariable $X$ heißt **Poisson-verteilt** mit parameter $\\lambda>0$ falls $X(\\Omega)=\\mathbb{N}_0$ und ihre Wahrscheinlichkeitsfunction ist $$p_X(k)=\\frac{\\lambda^{-k}}{k!}e^{-\\lambda},\\quad k\\in\\mathbb{N}_0.$$"
   ]
  },
  {
   "cell_type": "code",
   "execution_count": 8,
   "id": "37fcf4d9-f307-4f94-a070-6ea8efd42d2f",
   "metadata": {},
   "outputs": [],
   "source": [
    "def sample_poisson(λ, N):\n",
    "    X = poisson.rvs(λ, size=N, random_state=rng)\n",
    "    fig, ax = plt.subplots()\n",
    "    x = np.arange(0, 16)\n",
    "    fig, ax = plt.subplots()\n",
    "    ax.step(x, poisson.pmf(x, λ), where='mid')\n",
    "    ax.hist(X, align='mid', bins=x-0.5, density=True)\n",
    "    ax.set_xticks(x)\n",
    "    plt.show()"
   ]
  },
  {
   "cell_type": "code",
   "execution_count": 9,
   "id": "87caf47a-c740-41b1-b660-8c23da6f77f8",
   "metadata": {},
   "outputs": [
    {
     "data": {
      "application/vnd.jupyter.widget-view+json": {
       "model_id": "4297e0ef4cad44a88f15c01e3366cb7d",
       "version_major": 2,
       "version_minor": 0
      },
      "text/plain": [
       "interactive(children=(FloatSlider(value=1.0, description='λ', max=10.0), IntSlider(value=10, description='N', …"
      ]
     },
     "metadata": {},
     "output_type": "display_data"
    }
   ],
   "source": [
    "interact_manual(sample_poisson, λ=widgets.FloatSlider(min=0,max=10,value=1.0), N=widgets.IntSlider(min=1, max=10_000,value=10));"
   ]
  },
  {
   "cell_type": "markdown",
   "id": "c848caad-a66e-42bd-87a9-d961ba4d243d",
   "metadata": {},
   "source": [
    "## Poison-Grenzwertsatz\n",
    "\n",
    "Sei $n\\in\\mathbb{N}$ und $(p_n)$ eine Folge von Wahrscheinlichkeiten mit $n p_n\\to \\lambda\\in(0,\\infty)$.\n",
    "\n",
    "Sei $X_n$ eine Folge von binomialverteilten Zufallsvariable und sei $X$ Poisson-verteilt. Dann gilt\n",
    "$$\\lim_{n\\to\\infty} p_{X_n}(k) = p_X(k)$$ für alle $k\\in\\mathbb{N}_0$."
   ]
  },
  {
   "cell_type": "code",
   "execution_count": 13,
   "id": "cba185e6-2e5e-4b60-8353-44b19555946f",
   "metadata": {},
   "outputs": [
    {
     "data": {
      "application/vnd.jupyter.widget-view+json": {
       "model_id": "78628e1ae1ba49c3b71b2695953ab556",
       "version_major": 2,
       "version_minor": 0
      },
      "text/plain": [
       "interactive(children=(IntSlider(value=0, description='i', max=94), Output()), _dom_classes=('widget-interact',…"
      ]
     },
     "metadata": {},
     "output_type": "display_data"
    },
    {
     "data": {
      "application/vnd.jupyter.widget-view+json": {
       "model_id": "efa376ada89940ce8aab160aaeadf144",
       "version_major": 2,
       "version_minor": 0
      },
      "image/png": "[encoded data removed]",
      "text/html": [
       "\n",
       "            <div style=\"display: inline-block;\">\n",
       "                <div class=\"jupyter-widgets widget-label\" style=\"text-align: center;\">\n",
       "                    Figure\n",
       "                </div>\n",
       "                <img src='data:image/png;base64,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' width=800.0/>\n",
       "            </div>\n",
       "        "
      ],
      "text/plain": [
       "Canvas(toolbar=Toolbar(toolitems=[('Home', 'Reset original view', 'home', 'home'), ('Back', 'Back to previous …"
      ]
     },
     "metadata": {},
     "output_type": "display_data"
    }
   ],
   "source": [
    "from matplotlib import animation\n",
    "\n",
    "p = [ 4.0 / n for n in range(4, 100) ]\n",
    "x = np.arange(0, 16)\n",
    "fig, ax = plt.subplots()\n",
    "ax.step(x, poisson.pmf(x, 4.0), where='mid')\n",
    "bars = ax.bar(x, binom.pmf(x, n=4, p=p[0]), width=1, color='green', alpha=0.5)\n",
    "ax.set_xticks(x)\n",
    "\n",
    "def anim(i):\n",
    "    for k, b in enumerate(bars):\n",
    "        b.set_height(binom.pmf(k, n=i+4, p=p[i]))\n",
    "\n",
    "interact(anim, i=widgets.IntSlider(min=0,max=len(p)-2));"
   ]
  },
  {
   "cell_type": "markdown",
   "id": "7697ef51-4645-4d31-ba2c-5f3b81884f2a",
   "metadata": {},
   "source": [
    "# Zipf-Verteilung\n",
    "\n",
    "Eine Zufallsvariable $X$ heißt **Zipf-verteilt** mit parameter $a>1$ falls $X(\\Omega)=\\mathbb{N}$ und ihre Wahrscheinlichkeitsfunction ist $$p_X(k)=\\frac{k^{-a}}{\\zeta(a)},\\quad k\\in\\mathbb{N},$$\n",
    "wobei $\\zeta(a)\\coloneqq\\sum_{k\\ge 1}k^{-a}$ bezeichnet die Riemannsche Zeta-Funktion."
   ]
  },
  {
   "cell_type": "code",
   "execution_count": 11,
   "id": "ad1fd34c-156b-4463-8068-85129b27f39c",
   "metadata": {},
   "outputs": [],
   "source": [
    "def sample_zipf(a, N):\n",
    "    X = zipf.rvs(a, size=N, random_state=rng)\n",
    "    fig, ax = plt.subplots()\n",
    "    x = np.arange(1, 16)\n",
    "    fig, ax = plt.subplots()\n",
    "    ax.step(x, zipf.pmf(x, a), where='mid')\n",
    "    ax.hist(X, align='mid', bins=x-0.5, density=True)\n",
    "    ax.set_xticks(x)\n",
    "    plt.show()"
   ]
  },
  {
   "cell_type": "code",
   "execution_count": 12,
   "id": "6e905c6e-4f13-487c-8949-edbcbf28ba12",
   "metadata": {},
   "outputs": [
    {
     "data": {
      "application/vnd.jupyter.widget-view+json": {
       "model_id": "bf08db24ff6f478497b7f88f2703df79",
       "version_major": 2,
       "version_minor": 0
      },
      "text/plain": [
       "interactive(children=(FloatSlider(value=1.1, description='a', max=10.0, min=1.1), IntSlider(value=10, descript…"
      ]
     },
     "metadata": {},
     "output_type": "display_data"
    }
   ],
   "source": [
    "interact_manual(sample_zipf, a=widgets.FloatSlider(min=1.1,max=10,value=1.0), N=widgets.IntSlider(min=1, max=10_000,value=10));"
   ]
  }
 ],
 "metadata": {
  "kernelspec": {
   "display_name": "Python 3 (ipykernel)",
   "language": "python",
   "name": "python3"
  },
  "language_info": {
   "codemirror_mode": {
    "name": "ipython",
    "version": 3
   },
   "file_extension": ".py",
   "mimetype": "text/x-python",
   "name": "python",
   "nbconvert_exporter": "python",
   "pygments_lexer": "ipython3",
   "version": "3.12.3"
  }
 },
 "nbformat": 4,
 "nbformat_minor": 5
}
